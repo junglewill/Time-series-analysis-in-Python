{
 "cells": [
  {
   "cell_type": "markdown",
   "id": "appreciated-observer",
   "metadata": {},
   "source": [
    "# General Notation\n",
    "1. Seasonality is hard to be observed as it is not chronolgical\n",
    "2. To deal with the missing data in time series is way difficult than normal data\n",
    "    * adjust frequency - aggregate the data of 30 days for a monthly frequency\n",
    "    * increase frequency - approximate the data point in between the data points\n",
    "3. We can't run some ML models on the time series data: Due to the dependencies between consecutive periods in a time series data, we cannot shuffle the data\n",
    "4. Quantile-Quantile Plot (QQ plot): Used to determine whether a dataset distributed a certain way, usually showcase if it's a normal distribution> x-axis means if you follow that distribution, you should get the expected value, then you go on and check the actual sample values and order them, as the y-axia to plot it. y=x is the optimal line that your model does follow that distribution"
   ]
  }
 ],
 "metadata": {
  "kernelspec": {
   "display_name": "Python 3",
   "language": "python",
   "name": "python3"
  },
  "language_info": {
   "codemirror_mode": {
    "name": "ipython",
    "version": 3
   },
   "file_extension": ".py",
   "mimetype": "text/x-python",
   "name": "python",
   "nbconvert_exporter": "python",
   "pygments_lexer": "ipython3",
   "version": "3.8.3"
  }
 },
 "nbformat": 4,
 "nbformat_minor": 5
}
