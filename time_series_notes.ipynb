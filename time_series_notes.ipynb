{
 "cells": [
  {
   "cell_type": "markdown",
   "id": "appreciated-observer",
   "metadata": {},
   "source": [
    "# General Notation\n",
    "1. Seasonality is hard to be observed as it is not chronolgical\n",
    "2. To deal with the missing data in time series is way difficult than normal data\n",
    "    * adjust frequency - aggregate the data of 30 days for a monthly frequency\n",
    "    * increase frequency - approximate the data point in between the data points\n",
    "3. We can't run some ML models on the time series data: Due to the dependencies between consecutive periods in a time series data, we cannot shuffle the data\n",
    "4. Quantile-Quantile Plot (QQ plot): Used to determine whether a dataset distributed a certain way, usually showcase if it's a normal distribution> x-axis means if you follow that distribution, you should get the expected value, then you go on and check the actual sample values and order them, as the y-axia to plot it. y=x is the optimal line that your model does follow that distribution"
   ]
  },
  {
   "cell_type": "markdown",
   "id": "passive-painting",
   "metadata": {},
   "source": [
    "# Mathematical\n",
    "\n",
    "1. White Noise: a special type of time-series, where the data doesn't follow a pattern. It has to follow constant mean at 0, constant variance, and no autocorrelation in the period(no clear correlation between past and current time series value)\n",
    "2. Random Walk: a special type of time-series, where values tend to persist over time and the differences between series are simply white noises. Pt = Pt-1 + eposlin, where eposlin is a white noise distribution. It's more similar to a normal pice data, with smaller variation between consecutive time period, and it has cyclical increases and decreases in short period of times. if a stock market is a random walk, then the price cannot be predicted.\n",
    "3. Stationarity: taking a same time period, the time series data will have the same covariance, constant mean, constant variance, no matter what the starting point is.  \n",
    "    * It is called Covariance Stationarity (Weak Stationarity), and white noise satisfy this property.\n",
    "    * Strict Stationarity need the same time period of data having the SAME distribution, but it is seldom observed in real world\n",
    "4. Seasonality: the trends will appear on a cyclical basis. How to identify?\n",
    "    * Decomposition: Trend (express the pattern), Seasonal (express Cyclical effects), and residual (error of prediction)\n",
    "    * Naive decomposition: split into these three parts. Additive: the observed = trend + seasonal + residual; Multiproductive: observed = trend * seasonal * residual\n",
    "5. Correlation lo(x, y) = measures the similarity in the change of values of two time series\n",
    "6. Autocorrelation: the correlation between a sequence and itself. It measures the resemblance of the actual series data to a lagged version of itself. Which for example, means that to find the similarity of previous day(year) to this day(year)."
   ]
  },
  {
   "cell_type": "code",
   "execution_count": null,
   "id": "settled-freeware",
   "metadata": {},
   "outputs": [],
   "source": []
  }
 ],
 "metadata": {
  "kernelspec": {
   "display_name": "Python 3",
   "language": "python",
   "name": "python3"
  },
  "language_info": {
   "codemirror_mode": {
    "name": "ipython",
    "version": 3
   },
   "file_extension": ".py",
   "mimetype": "text/x-python",
   "name": "python",
   "nbconvert_exporter": "python",
   "pygments_lexer": "ipython3",
   "version": "3.8.3"
  }
 },
 "nbformat": 4,
 "nbformat_minor": 5
}
