{
 "cells": [
  {
   "cell_type": "markdown",
   "metadata": {},
   "source": [
    "### Importing the Packages"
   ]
  },
  {
   "cell_type": "code",
   "execution_count": 1,
   "metadata": {},
   "outputs": [],
   "source": [
    "import pandas as pd\n",
    "import numpy as np"
   ]
  },
  {
   "cell_type": "markdown",
   "metadata": {},
   "source": [
    "### Importing the data "
   ]
  },
  {
   "cell_type": "code",
   "execution_count": 3,
   "metadata": {},
   "outputs": [],
   "source": [
    "raw_csv_data = pd.read_csv(\"Index2018.csv\") \n",
    "df_comp=raw_csv_data.copy() "
   ]
  },
  {
   "cell_type": "markdown",
   "metadata": {},
   "source": [
    "### Lenght of the Time Period"
   ]
  },
  {
   "cell_type": "code",
   "execution_count": 4,
   "metadata": {
    "scrolled": true
   },
   "outputs": [
    {
     "data": {
      "text/plain": [
       "count           6269\n",
       "unique          6269\n",
       "top       12/07/1996\n",
       "freq               1\n",
       "Name: date, dtype: object"
      ]
     },
     "execution_count": 4,
     "metadata": {},
     "output_type": "execute_result"
    }
   ],
   "source": [
    "# The top is arbitrary chosen, as all the date value are the same at 1, so it's randomly chosen which to display\n",
    "df_comp.date.describe()"
   ]
  },
  {
   "cell_type": "code",
   "execution_count": 5,
   "metadata": {},
   "outputs": [
    {
     "data": {
      "text/html": [
       "<div>\n",
       "<style scoped>\n",
       "    .dataframe tbody tr th:only-of-type {\n",
       "        vertical-align: middle;\n",
       "    }\n",
       "\n",
       "    .dataframe tbody tr th {\n",
       "        vertical-align: top;\n",
       "    }\n",
       "\n",
       "    .dataframe thead th {\n",
       "        text-align: right;\n",
       "    }\n",
       "</style>\n",
       "<table border=\"1\" class=\"dataframe\">\n",
       "  <thead>\n",
       "    <tr style=\"text-align: right;\">\n",
       "      <th></th>\n",
       "      <th>date</th>\n",
       "      <th>spx</th>\n",
       "      <th>dax</th>\n",
       "      <th>ftse</th>\n",
       "      <th>nikkei</th>\n",
       "    </tr>\n",
       "  </thead>\n",
       "  <tbody>\n",
       "    <tr>\n",
       "      <th>0</th>\n",
       "      <td>07/01/1994</td>\n",
       "      <td>469.900000</td>\n",
       "      <td>2224.95</td>\n",
       "      <td>3445.980000</td>\n",
       "      <td>18124.01</td>\n",
       "    </tr>\n",
       "    <tr>\n",
       "      <th>1</th>\n",
       "      <td>10/01/1994</td>\n",
       "      <td>475.270000</td>\n",
       "      <td>2225.00</td>\n",
       "      <td>3440.580000</td>\n",
       "      <td>18443.44</td>\n",
       "    </tr>\n",
       "    <tr>\n",
       "      <th>2</th>\n",
       "      <td>11/01/1994</td>\n",
       "      <td>474.130000</td>\n",
       "      <td>2228.10</td>\n",
       "      <td>3413.770000</td>\n",
       "      <td>18485.25</td>\n",
       "    </tr>\n",
       "    <tr>\n",
       "      <th>3</th>\n",
       "      <td>12/01/1994</td>\n",
       "      <td>474.170000</td>\n",
       "      <td>2182.06</td>\n",
       "      <td>3372.020000</td>\n",
       "      <td>18793.88</td>\n",
       "    </tr>\n",
       "    <tr>\n",
       "      <th>4</th>\n",
       "      <td>13/01/1994</td>\n",
       "      <td>472.470000</td>\n",
       "      <td>2142.37</td>\n",
       "      <td>3360.010000</td>\n",
       "      <td>18577.26</td>\n",
       "    </tr>\n",
       "    <tr>\n",
       "      <th>...</th>\n",
       "      <td>...</td>\n",
       "      <td>...</td>\n",
       "      <td>...</td>\n",
       "      <td>...</td>\n",
       "      <td>...</td>\n",
       "    </tr>\n",
       "    <tr>\n",
       "      <th>6264</th>\n",
       "      <td>23/01/2018</td>\n",
       "      <td>2839.130362</td>\n",
       "      <td>13559.60</td>\n",
       "      <td>7731.827774</td>\n",
       "      <td>24124.15</td>\n",
       "    </tr>\n",
       "    <tr>\n",
       "      <th>6265</th>\n",
       "      <td>24/01/2018</td>\n",
       "      <td>2837.544008</td>\n",
       "      <td>13414.74</td>\n",
       "      <td>7643.428966</td>\n",
       "      <td>23940.78</td>\n",
       "    </tr>\n",
       "    <tr>\n",
       "      <th>6266</th>\n",
       "      <td>25/01/2018</td>\n",
       "      <td>2839.253031</td>\n",
       "      <td>13298.36</td>\n",
       "      <td>7615.839954</td>\n",
       "      <td>23669.49</td>\n",
       "    </tr>\n",
       "    <tr>\n",
       "      <th>6267</th>\n",
       "      <td>26/01/2018</td>\n",
       "      <td>2872.867839</td>\n",
       "      <td>13340.17</td>\n",
       "      <td>7665.541292</td>\n",
       "      <td>23631.88</td>\n",
       "    </tr>\n",
       "    <tr>\n",
       "      <th>6268</th>\n",
       "      <td>29/01/2018</td>\n",
       "      <td>2853.528411</td>\n",
       "      <td>13324.48</td>\n",
       "      <td>7671.533300</td>\n",
       "      <td>23629.34</td>\n",
       "    </tr>\n",
       "  </tbody>\n",
       "</table>\n",
       "<p>6269 rows × 5 columns</p>\n",
       "</div>"
      ],
      "text/plain": [
       "            date          spx       dax         ftse    nikkei\n",
       "0     07/01/1994   469.900000   2224.95  3445.980000  18124.01\n",
       "1     10/01/1994   475.270000   2225.00  3440.580000  18443.44\n",
       "2     11/01/1994   474.130000   2228.10  3413.770000  18485.25\n",
       "3     12/01/1994   474.170000   2182.06  3372.020000  18793.88\n",
       "4     13/01/1994   472.470000   2142.37  3360.010000  18577.26\n",
       "...          ...          ...       ...          ...       ...\n",
       "6264  23/01/2018  2839.130362  13559.60  7731.827774  24124.15\n",
       "6265  24/01/2018  2837.544008  13414.74  7643.428966  23940.78\n",
       "6266  25/01/2018  2839.253031  13298.36  7615.839954  23669.49\n",
       "6267  26/01/2018  2872.867839  13340.17  7665.541292  23631.88\n",
       "6268  29/01/2018  2853.528411  13324.48  7671.533300  23629.34\n",
       "\n",
       "[6269 rows x 5 columns]"
      ]
     },
     "execution_count": 5,
     "metadata": {},
     "output_type": "execute_result"
    }
   ],
   "source": [
    "df_comp"
   ]
  },
  {
   "cell_type": "code",
   "execution_count": null,
   "metadata": {
    "scrolled": false
   },
   "outputs": [],
   "source": []
  },
  {
   "cell_type": "markdown",
   "metadata": {},
   "source": [
    "### From Text to Date"
   ]
  },
  {
   "cell_type": "code",
   "execution_count": 6,
   "metadata": {},
   "outputs": [],
   "source": [
    "df_comp['date'] = pd.to_datetime(df_comp['date'], dayfirst=True)"
   ]
  },
  {
   "cell_type": "code",
   "execution_count": 7,
   "metadata": {
    "scrolled": true
   },
   "outputs": [
    {
     "data": {
      "text/plain": [
       "Timestamp('1994-01-07 00:00:00')"
      ]
     },
     "execution_count": 7,
     "metadata": {},
     "output_type": "execute_result"
    }
   ],
   "source": [
    "pd.to_datetime(df_comp['date'], format='%d/%m/%Y')[0]"
   ]
  },
  {
   "cell_type": "code",
   "execution_count": null,
   "metadata": {},
   "outputs": [],
   "source": [
    "from datetime import datetime as dt\n",
    "dt.strptime(df_comp[\"date\"][0], '%d/%m/%Y')"
   ]
  },
  {
   "cell_type": "markdown",
   "metadata": {},
   "source": [
    "### Setting the Index"
   ]
  },
  {
   "cell_type": "code",
   "execution_count": 9,
   "metadata": {
    "scrolled": false
   },
   "outputs": [],
   "source": [
    "df_comp.set_index('date', inplace=True)"
   ]
  },
  {
   "cell_type": "code",
   "execution_count": 10,
   "metadata": {},
   "outputs": [
    {
     "data": {
      "text/plain": [
       "4"
      ]
     },
     "execution_count": 10,
     "metadata": {},
     "output_type": "execute_result"
    }
   ],
   "source": [
    "df_comp.index[0].dayofweek"
   ]
  },
  {
   "cell_type": "code",
   "execution_count": 11,
   "metadata": {},
   "outputs": [
    {
     "data": {
      "text/plain": [
       "4"
      ]
     },
     "execution_count": 11,
     "metadata": {},
     "output_type": "execute_result"
    }
   ],
   "source": [
    "df_comp.index[0].weekday()"
   ]
  },
  {
   "cell_type": "code",
   "execution_count": 12,
   "metadata": {},
   "outputs": [
    {
     "name": "stdout",
     "output_type": "stream",
     "text": [
      "1\n",
      "7\n",
      "1994\n"
     ]
    }
   ],
   "source": [
    "print(df_comp.index[0].month)\n",
    "print(df_comp.index[0].day)\n",
    "print(df_comp.index[0].year)"
   ]
  },
  {
   "cell_type": "code",
   "execution_count": null,
   "metadata": {},
   "outputs": [],
   "source": []
  },
  {
   "cell_type": "markdown",
   "metadata": {},
   "source": [
    "### Setting the Desired Frequency"
   ]
  },
  {
   "cell_type": "code",
   "execution_count": 13,
   "metadata": {},
   "outputs": [],
   "source": [
    "# 'h' hourly, 'w' weekly, 'd' daily, 'm' monthly, 'a' annually, 'b' business day\n",
    "df_comp = df_comp.asfreq('b')"
   ]
  },
  {
   "cell_type": "code",
   "execution_count": 14,
   "metadata": {
    "scrolled": true
   },
   "outputs": [
    {
     "data": {
      "text/html": [
       "<div>\n",
       "<style scoped>\n",
       "    .dataframe tbody tr th:only-of-type {\n",
       "        vertical-align: middle;\n",
       "    }\n",
       "\n",
       "    .dataframe tbody tr th {\n",
       "        vertical-align: top;\n",
       "    }\n",
       "\n",
       "    .dataframe thead th {\n",
       "        text-align: right;\n",
       "    }\n",
       "</style>\n",
       "<table border=\"1\" class=\"dataframe\">\n",
       "  <thead>\n",
       "    <tr style=\"text-align: right;\">\n",
       "      <th></th>\n",
       "      <th>spx</th>\n",
       "      <th>dax</th>\n",
       "      <th>ftse</th>\n",
       "      <th>nikkei</th>\n",
       "    </tr>\n",
       "    <tr>\n",
       "      <th>date</th>\n",
       "      <th></th>\n",
       "      <th></th>\n",
       "      <th></th>\n",
       "      <th></th>\n",
       "    </tr>\n",
       "  </thead>\n",
       "  <tbody>\n",
       "    <tr>\n",
       "      <th>1994-01-07</th>\n",
       "      <td>469.900000</td>\n",
       "      <td>2224.95</td>\n",
       "      <td>3445.980000</td>\n",
       "      <td>18124.01</td>\n",
       "    </tr>\n",
       "    <tr>\n",
       "      <th>1994-01-10</th>\n",
       "      <td>475.270000</td>\n",
       "      <td>2225.00</td>\n",
       "      <td>3440.580000</td>\n",
       "      <td>18443.44</td>\n",
       "    </tr>\n",
       "    <tr>\n",
       "      <th>1994-01-11</th>\n",
       "      <td>474.130000</td>\n",
       "      <td>2228.10</td>\n",
       "      <td>3413.770000</td>\n",
       "      <td>18485.25</td>\n",
       "    </tr>\n",
       "    <tr>\n",
       "      <th>1994-01-12</th>\n",
       "      <td>474.170000</td>\n",
       "      <td>2182.06</td>\n",
       "      <td>3372.020000</td>\n",
       "      <td>18793.88</td>\n",
       "    </tr>\n",
       "    <tr>\n",
       "      <th>1994-01-13</th>\n",
       "      <td>472.470000</td>\n",
       "      <td>2142.37</td>\n",
       "      <td>3360.010000</td>\n",
       "      <td>18577.26</td>\n",
       "    </tr>\n",
       "    <tr>\n",
       "      <th>...</th>\n",
       "      <td>...</td>\n",
       "      <td>...</td>\n",
       "      <td>...</td>\n",
       "      <td>...</td>\n",
       "    </tr>\n",
       "    <tr>\n",
       "      <th>2018-01-23</th>\n",
       "      <td>2839.130362</td>\n",
       "      <td>13559.60</td>\n",
       "      <td>7731.827774</td>\n",
       "      <td>24124.15</td>\n",
       "    </tr>\n",
       "    <tr>\n",
       "      <th>2018-01-24</th>\n",
       "      <td>2837.544008</td>\n",
       "      <td>13414.74</td>\n",
       "      <td>7643.428966</td>\n",
       "      <td>23940.78</td>\n",
       "    </tr>\n",
       "    <tr>\n",
       "      <th>2018-01-25</th>\n",
       "      <td>2839.253031</td>\n",
       "      <td>13298.36</td>\n",
       "      <td>7615.839954</td>\n",
       "      <td>23669.49</td>\n",
       "    </tr>\n",
       "    <tr>\n",
       "      <th>2018-01-26</th>\n",
       "      <td>2872.867839</td>\n",
       "      <td>13340.17</td>\n",
       "      <td>7665.541292</td>\n",
       "      <td>23631.88</td>\n",
       "    </tr>\n",
       "    <tr>\n",
       "      <th>2018-01-29</th>\n",
       "      <td>2853.528411</td>\n",
       "      <td>13324.48</td>\n",
       "      <td>7671.533300</td>\n",
       "      <td>23629.34</td>\n",
       "    </tr>\n",
       "  </tbody>\n",
       "</table>\n",
       "<p>6277 rows × 4 columns</p>\n",
       "</div>"
      ],
      "text/plain": [
       "                    spx       dax         ftse    nikkei\n",
       "date                                                    \n",
       "1994-01-07   469.900000   2224.95  3445.980000  18124.01\n",
       "1994-01-10   475.270000   2225.00  3440.580000  18443.44\n",
       "1994-01-11   474.130000   2228.10  3413.770000  18485.25\n",
       "1994-01-12   474.170000   2182.06  3372.020000  18793.88\n",
       "1994-01-13   472.470000   2142.37  3360.010000  18577.26\n",
       "...                 ...       ...          ...       ...\n",
       "2018-01-23  2839.130362  13559.60  7731.827774  24124.15\n",
       "2018-01-24  2837.544008  13414.74  7643.428966  23940.78\n",
       "2018-01-25  2839.253031  13298.36  7615.839954  23669.49\n",
       "2018-01-26  2872.867839  13340.17  7665.541292  23631.88\n",
       "2018-01-29  2853.528411  13324.48  7671.533300  23629.34\n",
       "\n",
       "[6277 rows x 4 columns]"
      ]
     },
     "execution_count": 14,
     "metadata": {},
     "output_type": "execute_result"
    }
   ],
   "source": [
    "df_comp"
   ]
  },
  {
   "cell_type": "code",
   "execution_count": null,
   "metadata": {},
   "outputs": [],
   "source": []
  },
  {
   "cell_type": "code",
   "execution_count": null,
   "metadata": {},
   "outputs": [],
   "source": []
  },
  {
   "cell_type": "markdown",
   "metadata": {},
   "source": [
    "### Handling Missing Values"
   ]
  },
  {
   "cell_type": "code",
   "execution_count": 15,
   "metadata": {
    "scrolled": true
   },
   "outputs": [
    {
     "data": {
      "text/html": [
       "<div>\n",
       "<style scoped>\n",
       "    .dataframe tbody tr th:only-of-type {\n",
       "        vertical-align: middle;\n",
       "    }\n",
       "\n",
       "    .dataframe tbody tr th {\n",
       "        vertical-align: top;\n",
       "    }\n",
       "\n",
       "    .dataframe thead th {\n",
       "        text-align: right;\n",
       "    }\n",
       "</style>\n",
       "<table border=\"1\" class=\"dataframe\">\n",
       "  <thead>\n",
       "    <tr style=\"text-align: right;\">\n",
       "      <th></th>\n",
       "      <th>spx</th>\n",
       "      <th>dax</th>\n",
       "      <th>ftse</th>\n",
       "      <th>nikkei</th>\n",
       "    </tr>\n",
       "    <tr>\n",
       "      <th>date</th>\n",
       "      <th></th>\n",
       "      <th></th>\n",
       "      <th></th>\n",
       "      <th></th>\n",
       "    </tr>\n",
       "  </thead>\n",
       "  <tbody>\n",
       "    <tr>\n",
       "      <th>1994-01-07</th>\n",
       "      <td>False</td>\n",
       "      <td>False</td>\n",
       "      <td>False</td>\n",
       "      <td>False</td>\n",
       "    </tr>\n",
       "    <tr>\n",
       "      <th>1994-01-10</th>\n",
       "      <td>False</td>\n",
       "      <td>False</td>\n",
       "      <td>False</td>\n",
       "      <td>False</td>\n",
       "    </tr>\n",
       "    <tr>\n",
       "      <th>1994-01-11</th>\n",
       "      <td>False</td>\n",
       "      <td>False</td>\n",
       "      <td>False</td>\n",
       "      <td>False</td>\n",
       "    </tr>\n",
       "    <tr>\n",
       "      <th>1994-01-12</th>\n",
       "      <td>False</td>\n",
       "      <td>False</td>\n",
       "      <td>False</td>\n",
       "      <td>False</td>\n",
       "    </tr>\n",
       "    <tr>\n",
       "      <th>1994-01-13</th>\n",
       "      <td>False</td>\n",
       "      <td>False</td>\n",
       "      <td>False</td>\n",
       "      <td>False</td>\n",
       "    </tr>\n",
       "    <tr>\n",
       "      <th>...</th>\n",
       "      <td>...</td>\n",
       "      <td>...</td>\n",
       "      <td>...</td>\n",
       "      <td>...</td>\n",
       "    </tr>\n",
       "    <tr>\n",
       "      <th>2018-01-23</th>\n",
       "      <td>False</td>\n",
       "      <td>False</td>\n",
       "      <td>False</td>\n",
       "      <td>False</td>\n",
       "    </tr>\n",
       "    <tr>\n",
       "      <th>2018-01-24</th>\n",
       "      <td>False</td>\n",
       "      <td>False</td>\n",
       "      <td>False</td>\n",
       "      <td>False</td>\n",
       "    </tr>\n",
       "    <tr>\n",
       "      <th>2018-01-25</th>\n",
       "      <td>False</td>\n",
       "      <td>False</td>\n",
       "      <td>False</td>\n",
       "      <td>False</td>\n",
       "    </tr>\n",
       "    <tr>\n",
       "      <th>2018-01-26</th>\n",
       "      <td>False</td>\n",
       "      <td>False</td>\n",
       "      <td>False</td>\n",
       "      <td>False</td>\n",
       "    </tr>\n",
       "    <tr>\n",
       "      <th>2018-01-29</th>\n",
       "      <td>False</td>\n",
       "      <td>False</td>\n",
       "      <td>False</td>\n",
       "      <td>False</td>\n",
       "    </tr>\n",
       "  </tbody>\n",
       "</table>\n",
       "<p>6277 rows × 4 columns</p>\n",
       "</div>"
      ],
      "text/plain": [
       "              spx    dax   ftse  nikkei\n",
       "date                                   \n",
       "1994-01-07  False  False  False   False\n",
       "1994-01-10  False  False  False   False\n",
       "1994-01-11  False  False  False   False\n",
       "1994-01-12  False  False  False   False\n",
       "1994-01-13  False  False  False   False\n",
       "...           ...    ...    ...     ...\n",
       "2018-01-23  False  False  False   False\n",
       "2018-01-24  False  False  False   False\n",
       "2018-01-25  False  False  False   False\n",
       "2018-01-26  False  False  False   False\n",
       "2018-01-29  False  False  False   False\n",
       "\n",
       "[6277 rows x 4 columns]"
      ]
     },
     "execution_count": 15,
     "metadata": {},
     "output_type": "execute_result"
    }
   ],
   "source": [
    "df_comp.isna()"
   ]
  },
  {
   "cell_type": "code",
   "execution_count": 16,
   "metadata": {
    "scrolled": true
   },
   "outputs": [
    {
     "data": {
      "text/plain": [
       "spx       8\n",
       "dax       8\n",
       "ftse      8\n",
       "nikkei    8\n",
       "dtype: int64"
      ]
     },
     "execution_count": 16,
     "metadata": {},
     "output_type": "execute_result"
    }
   ],
   "source": [
    "df_comp.isna().sum()"
   ]
  },
  {
   "cell_type": "markdown",
   "metadata": {},
   "source": [
    "#### front filing: filing the missing value with the previous date of input\n",
    "#### back filing: filing the value of the next period\n",
    "#### filing the same value: for example, filing the average of the data in the column, usually a bad idea in time series"
   ]
  },
  {
   "cell_type": "code",
   "execution_count": 17,
   "metadata": {},
   "outputs": [],
   "source": [
    "df_comp['spx'] = df_comp['spx'].fillna(method = 'ffill')"
   ]
  },
  {
   "cell_type": "code",
   "execution_count": 18,
   "metadata": {},
   "outputs": [
    {
     "data": {
      "text/plain": [
       "spx       0\n",
       "dax       8\n",
       "ftse      8\n",
       "nikkei    8\n",
       "dtype: int64"
      ]
     },
     "execution_count": 18,
     "metadata": {},
     "output_type": "execute_result"
    }
   ],
   "source": [
    "df_comp.isna().sum()"
   ]
  },
  {
   "cell_type": "code",
   "execution_count": 19,
   "metadata": {},
   "outputs": [],
   "source": [
    "df_comp['ftse'] = df_comp['ftse'].fillna(method = 'bfill')"
   ]
  },
  {
   "cell_type": "code",
   "execution_count": 21,
   "metadata": {},
   "outputs": [
    {
     "data": {
      "text/plain": [
       "spx       0\n",
       "dax       8\n",
       "ftse      0\n",
       "nikkei    8\n",
       "dtype: int64"
      ]
     },
     "execution_count": 21,
     "metadata": {},
     "output_type": "execute_result"
    }
   ],
   "source": [
    "df_comp.isna().sum()"
   ]
  },
  {
   "cell_type": "code",
   "execution_count": 22,
   "metadata": {},
   "outputs": [],
   "source": [
    "df_comp.dax = df_comp.dax.fillna(value=df_comp.dax.mean())"
   ]
  },
  {
   "cell_type": "code",
   "execution_count": 23,
   "metadata": {},
   "outputs": [
    {
     "data": {
      "text/plain": [
       "spx       0\n",
       "dax       0\n",
       "ftse      0\n",
       "nikkei    8\n",
       "dtype: int64"
      ]
     },
     "execution_count": 23,
     "metadata": {},
     "output_type": "execute_result"
    }
   ],
   "source": [
    "df_comp.isna().sum()"
   ]
  },
  {
   "cell_type": "markdown",
   "metadata": {},
   "source": [
    "### Simplifying the Dataset"
   ]
  },
  {
   "cell_type": "code",
   "execution_count": 24,
   "metadata": {},
   "outputs": [],
   "source": [
    "df_comp['market value'] = df_comp.dax"
   ]
  },
  {
   "cell_type": "code",
   "execution_count": 25,
   "metadata": {},
   "outputs": [
    {
     "data": {
      "text/html": [
       "<div>\n",
       "<style scoped>\n",
       "    .dataframe tbody tr th:only-of-type {\n",
       "        vertical-align: middle;\n",
       "    }\n",
       "\n",
       "    .dataframe tbody tr th {\n",
       "        vertical-align: top;\n",
       "    }\n",
       "\n",
       "    .dataframe thead th {\n",
       "        text-align: right;\n",
       "    }\n",
       "</style>\n",
       "<table border=\"1\" class=\"dataframe\">\n",
       "  <thead>\n",
       "    <tr style=\"text-align: right;\">\n",
       "      <th></th>\n",
       "      <th>spx</th>\n",
       "      <th>dax</th>\n",
       "      <th>ftse</th>\n",
       "      <th>nikkei</th>\n",
       "      <th>market value</th>\n",
       "    </tr>\n",
       "  </thead>\n",
       "  <tbody>\n",
       "    <tr>\n",
       "      <th>count</th>\n",
       "      <td>6277.000000</td>\n",
       "      <td>6277.000000</td>\n",
       "      <td>6277.000000</td>\n",
       "      <td>6269.000000</td>\n",
       "      <td>6277.000000</td>\n",
       "    </tr>\n",
       "    <tr>\n",
       "      <th>mean</th>\n",
       "      <td>1288.642547</td>\n",
       "      <td>6080.063363</td>\n",
       "      <td>5423.690398</td>\n",
       "      <td>14597.055700</td>\n",
       "      <td>6080.063363</td>\n",
       "    </tr>\n",
       "    <tr>\n",
       "      <th>std</th>\n",
       "      <td>487.868210</td>\n",
       "      <td>2752.604984</td>\n",
       "      <td>1145.568370</td>\n",
       "      <td>4043.122953</td>\n",
       "      <td>2752.604984</td>\n",
       "    </tr>\n",
       "    <tr>\n",
       "      <th>min</th>\n",
       "      <td>438.920000</td>\n",
       "      <td>1911.700000</td>\n",
       "      <td>2876.600000</td>\n",
       "      <td>7054.980000</td>\n",
       "      <td>1911.700000</td>\n",
       "    </tr>\n",
       "    <tr>\n",
       "      <th>25%</th>\n",
       "      <td>992.715221</td>\n",
       "      <td>4070.460000</td>\n",
       "      <td>4487.880000</td>\n",
       "      <td>10709.290000</td>\n",
       "      <td>4070.460000</td>\n",
       "    </tr>\n",
       "    <tr>\n",
       "      <th>50%</th>\n",
       "      <td>1233.761241</td>\n",
       "      <td>5774.380000</td>\n",
       "      <td>5663.300000</td>\n",
       "      <td>15028.170000</td>\n",
       "      <td>5774.380000</td>\n",
       "    </tr>\n",
       "    <tr>\n",
       "      <th>75%</th>\n",
       "      <td>1460.250000</td>\n",
       "      <td>7442.660000</td>\n",
       "      <td>6304.630175</td>\n",
       "      <td>17860.470000</td>\n",
       "      <td>7442.660000</td>\n",
       "    </tr>\n",
       "    <tr>\n",
       "      <th>max</th>\n",
       "      <td>2872.867839</td>\n",
       "      <td>13559.600000</td>\n",
       "      <td>7778.637689</td>\n",
       "      <td>24124.150000</td>\n",
       "      <td>13559.600000</td>\n",
       "    </tr>\n",
       "  </tbody>\n",
       "</table>\n",
       "</div>"
      ],
      "text/plain": [
       "               spx           dax         ftse        nikkei  market value\n",
       "count  6277.000000   6277.000000  6277.000000   6269.000000   6277.000000\n",
       "mean   1288.642547   6080.063363  5423.690398  14597.055700   6080.063363\n",
       "std     487.868210   2752.604984  1145.568370   4043.122953   2752.604984\n",
       "min     438.920000   1911.700000  2876.600000   7054.980000   1911.700000\n",
       "25%     992.715221   4070.460000  4487.880000  10709.290000   4070.460000\n",
       "50%    1233.761241   5774.380000  5663.300000  15028.170000   5774.380000\n",
       "75%    1460.250000   7442.660000  6304.630175  17860.470000   7442.660000\n",
       "max    2872.867839  13559.600000  7778.637689  24124.150000  13559.600000"
      ]
     },
     "execution_count": 25,
     "metadata": {},
     "output_type": "execute_result"
    }
   ],
   "source": [
    "df_comp.describe()"
   ]
  },
  {
   "cell_type": "code",
   "execution_count": 26,
   "metadata": {},
   "outputs": [],
   "source": [
    "del df_comp['spx'], df_comp['dax']"
   ]
  },
  {
   "cell_type": "code",
   "execution_count": 29,
   "metadata": {
    "scrolled": false
   },
   "outputs": [],
   "source": [
    "df_comp.drop(['ftse', 'nikkei'], axis=1, inplace=True)"
   ]
  },
  {
   "cell_type": "code",
   "execution_count": 30,
   "metadata": {},
   "outputs": [
    {
     "data": {
      "text/html": [
       "<div>\n",
       "<style scoped>\n",
       "    .dataframe tbody tr th:only-of-type {\n",
       "        vertical-align: middle;\n",
       "    }\n",
       "\n",
       "    .dataframe tbody tr th {\n",
       "        vertical-align: top;\n",
       "    }\n",
       "\n",
       "    .dataframe thead th {\n",
       "        text-align: right;\n",
       "    }\n",
       "</style>\n",
       "<table border=\"1\" class=\"dataframe\">\n",
       "  <thead>\n",
       "    <tr style=\"text-align: right;\">\n",
       "      <th></th>\n",
       "      <th>market value</th>\n",
       "    </tr>\n",
       "  </thead>\n",
       "  <tbody>\n",
       "    <tr>\n",
       "      <th>count</th>\n",
       "      <td>6277.000000</td>\n",
       "    </tr>\n",
       "    <tr>\n",
       "      <th>mean</th>\n",
       "      <td>6080.063363</td>\n",
       "    </tr>\n",
       "    <tr>\n",
       "      <th>std</th>\n",
       "      <td>2752.604984</td>\n",
       "    </tr>\n",
       "    <tr>\n",
       "      <th>min</th>\n",
       "      <td>1911.700000</td>\n",
       "    </tr>\n",
       "    <tr>\n",
       "      <th>25%</th>\n",
       "      <td>4070.460000</td>\n",
       "    </tr>\n",
       "    <tr>\n",
       "      <th>50%</th>\n",
       "      <td>5774.380000</td>\n",
       "    </tr>\n",
       "    <tr>\n",
       "      <th>75%</th>\n",
       "      <td>7442.660000</td>\n",
       "    </tr>\n",
       "    <tr>\n",
       "      <th>max</th>\n",
       "      <td>13559.600000</td>\n",
       "    </tr>\n",
       "  </tbody>\n",
       "</table>\n",
       "</div>"
      ],
      "text/plain": [
       "       market value\n",
       "count   6277.000000\n",
       "mean    6080.063363\n",
       "std     2752.604984\n",
       "min     1911.700000\n",
       "25%     4070.460000\n",
       "50%     5774.380000\n",
       "75%     7442.660000\n",
       "max    13559.600000"
      ]
     },
     "execution_count": 30,
     "metadata": {},
     "output_type": "execute_result"
    }
   ],
   "source": [
    "df_comp.describe()"
   ]
  },
  {
   "cell_type": "markdown",
   "metadata": {},
   "source": [
    "### Splitting the Data"
   ]
  },
  {
   "cell_type": "code",
   "execution_count": 31,
   "metadata": {},
   "outputs": [],
   "source": [
    "size = int(len(df_comp) * 0.8)"
   ]
  },
  {
   "cell_type": "code",
   "execution_count": 32,
   "metadata": {},
   "outputs": [],
   "source": [
    "df_train = df_comp.iloc[:size]"
   ]
  },
  {
   "cell_type": "code",
   "execution_count": 36,
   "metadata": {},
   "outputs": [],
   "source": [
    "df_test = df_comp.iloc[size:]"
   ]
  },
  {
   "cell_type": "code",
   "execution_count": 37,
   "metadata": {},
   "outputs": [
    {
     "data": {
      "text/html": [
       "<div>\n",
       "<style scoped>\n",
       "    .dataframe tbody tr th:only-of-type {\n",
       "        vertical-align: middle;\n",
       "    }\n",
       "\n",
       "    .dataframe tbody tr th {\n",
       "        vertical-align: top;\n",
       "    }\n",
       "\n",
       "    .dataframe thead th {\n",
       "        text-align: right;\n",
       "    }\n",
       "</style>\n",
       "<table border=\"1\" class=\"dataframe\">\n",
       "  <thead>\n",
       "    <tr style=\"text-align: right;\">\n",
       "      <th></th>\n",
       "      <th>market value</th>\n",
       "    </tr>\n",
       "    <tr>\n",
       "      <th>date</th>\n",
       "      <th></th>\n",
       "    </tr>\n",
       "  </thead>\n",
       "  <tbody>\n",
       "    <tr>\n",
       "      <th>2013-04-03</th>\n",
       "      <td>7874.75</td>\n",
       "    </tr>\n",
       "    <tr>\n",
       "      <th>2013-04-04</th>\n",
       "      <td>7817.39</td>\n",
       "    </tr>\n",
       "    <tr>\n",
       "      <th>2013-04-05</th>\n",
       "      <td>7658.75</td>\n",
       "    </tr>\n",
       "  </tbody>\n",
       "</table>\n",
       "</div>"
      ],
      "text/plain": [
       "            market value\n",
       "date                    \n",
       "2013-04-03       7874.75\n",
       "2013-04-04       7817.39\n",
       "2013-04-05       7658.75"
      ]
     },
     "execution_count": 37,
     "metadata": {},
     "output_type": "execute_result"
    }
   ],
   "source": [
    "df_train.tail(3)"
   ]
  },
  {
   "cell_type": "code",
   "execution_count": 38,
   "metadata": {},
   "outputs": [
    {
     "data": {
      "text/html": [
       "<div>\n",
       "<style scoped>\n",
       "    .dataframe tbody tr th:only-of-type {\n",
       "        vertical-align: middle;\n",
       "    }\n",
       "\n",
       "    .dataframe tbody tr th {\n",
       "        vertical-align: top;\n",
       "    }\n",
       "\n",
       "    .dataframe thead th {\n",
       "        text-align: right;\n",
       "    }\n",
       "</style>\n",
       "<table border=\"1\" class=\"dataframe\">\n",
       "  <thead>\n",
       "    <tr style=\"text-align: right;\">\n",
       "      <th></th>\n",
       "      <th>market value</th>\n",
       "    </tr>\n",
       "    <tr>\n",
       "      <th>date</th>\n",
       "      <th></th>\n",
       "    </tr>\n",
       "  </thead>\n",
       "  <tbody>\n",
       "    <tr>\n",
       "      <th>2013-04-08</th>\n",
       "      <td>7662.64</td>\n",
       "    </tr>\n",
       "    <tr>\n",
       "      <th>2013-04-09</th>\n",
       "      <td>7637.51</td>\n",
       "    </tr>\n",
       "    <tr>\n",
       "      <th>2013-04-10</th>\n",
       "      <td>7810.63</td>\n",
       "    </tr>\n",
       "  </tbody>\n",
       "</table>\n",
       "</div>"
      ],
      "text/plain": [
       "            market value\n",
       "date                    \n",
       "2013-04-08       7662.64\n",
       "2013-04-09       7637.51\n",
       "2013-04-10       7810.63"
      ]
     },
     "execution_count": 38,
     "metadata": {},
     "output_type": "execute_result"
    }
   ],
   "source": [
    "df_test.head(3)"
   ]
  },
  {
   "cell_type": "code",
   "execution_count": null,
   "metadata": {},
   "outputs": [],
   "source": []
  }
 ],
 "metadata": {
  "kernelspec": {
   "display_name": "Python 3",
   "language": "python",
   "name": "python3"
  },
  "language_info": {
   "codemirror_mode": {
    "name": "ipython",
    "version": 3
   },
   "file_extension": ".py",
   "mimetype": "text/x-python",
   "name": "python",
   "nbconvert_exporter": "python",
   "pygments_lexer": "ipython3",
   "version": "3.8.3"
  }
 },
 "nbformat": 4,
 "nbformat_minor": 2
}
