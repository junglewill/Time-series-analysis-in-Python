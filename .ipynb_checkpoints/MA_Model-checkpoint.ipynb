{
 "cells": [
  {
   "cell_type": "markdown",
   "metadata": {},
   "source": [
    "## Importing the relevant packages"
   ]
  },
  {
   "cell_type": "code",
   "execution_count": 1,
   "metadata": {},
   "outputs": [],
   "source": [
    "import pandas as pd\n",
    "import numpy as np\n",
    "import matplotlib.pyplot as plt\n",
    "import statsmodels.graphics.tsaplots as sgt\n",
    "import statsmodels.tsa.stattools as sts\n",
    "from statsmodels.tsa.arima_model import ARMA\n",
    "from scipy.stats.distributions import chi2 \n",
    "from math import sqrt\n",
    "import seaborn as sns\n",
    "sns.set()"
   ]
  },
  {
   "cell_type": "markdown",
   "metadata": {},
   "source": [
    " "
   ]
  },
  {
   "cell_type": "markdown",
   "metadata": {},
   "source": [
    "## Importing the Data and Pre-processing "
   ]
  },
  {
   "cell_type": "code",
   "execution_count": 3,
   "metadata": {},
   "outputs": [],
   "source": [
    "raw_csv_data = pd.read_csv(\"dataset/Index2018.csv\") \n",
    "df_comp=raw_csv_data.copy()\n",
    "df_comp.date = pd.to_datetime(df_comp.date, dayfirst = True)\n",
    "df_comp.set_index(\"date\", inplace=True)\n",
    "df_comp=df_comp.asfreq('b')\n",
    "df_comp=df_comp.fillna(method='ffill')"
   ]
  },
  {
   "cell_type": "code",
   "execution_count": 4,
   "metadata": {},
   "outputs": [],
   "source": [
    "df_comp['market_value']=df_comp.ftse"
   ]
  },
  {
   "cell_type": "code",
   "execution_count": 5,
   "metadata": {},
   "outputs": [],
   "source": [
    "del df_comp['spx']\n",
    "del df_comp['dax']\n",
    "del df_comp['ftse']\n",
    "del df_comp['nikkei']\n",
    "size = int(len(df_comp)*0.8)\n",
    "df, df_test = df_comp.iloc[:size], df_comp.iloc[size:]"
   ]
  },
  {
   "cell_type": "markdown",
   "metadata": {},
   "source": [
    " "
   ]
  },
  {
   "cell_type": "markdown",
   "metadata": {},
   "source": [
    "## The LLR Test"
   ]
  },
  {
   "cell_type": "code",
   "execution_count": 6,
   "metadata": {},
   "outputs": [],
   "source": [
    "def LLR_test(mod_1, mod_2, DF = 1):\n",
    "    L1 = mod_1.fit().llf\n",
    "    L2 = mod_2.fit().llf\n",
    "    LR = (2*(L2-L1))    \n",
    "    p = chi2.sf(LR, DF).round(3)\n",
    "    return p"
   ]
  },
  {
   "cell_type": "markdown",
   "metadata": {},
   "source": [
    "## Creating Returns"
   ]
  },
  {
   "cell_type": "code",
   "execution_count": 7,
   "metadata": {
    "scrolled": true
   },
   "outputs": [
    {
     "name": "stderr",
     "output_type": "stream",
     "text": [
      "<ipython-input-7-6f3746182e20>:1: SettingWithCopyWarning: \n",
      "A value is trying to be set on a copy of a slice from a DataFrame.\n",
      "Try using .loc[row_indexer,col_indexer] = value instead\n",
      "\n",
      "See the caveats in the documentation: https://pandas.pydata.org/pandas-docs/stable/user_guide/indexing.html#returning-a-view-versus-a-copy\n",
      "  df['returns'] = df.market_value.pct_change(1)*100\n"
     ]
    }
   ],
   "source": [
    "df['returns'] = df.market_value.pct_change(1)*100"
   ]
  },
  {
   "cell_type": "markdown",
   "metadata": {},
   "source": [
    "## ACF for Returns"
   ]
  },
  {
   "cell_type": "code",
   "execution_count": 17,
   "metadata": {},
   "outputs": [
    {
     "data": {
      "image/png": "[encoded data removed]",
      "text/plain": [
       "<Figure size 432x288 with 1 Axes>"
      ]
     },
     "metadata": {},
     "output_type": "display_data"
    }
   ],
   "source": [
    "# MA need to use ACF to see how many lags to include, from here we can see MA(8) would approximately be the optimal\n",
    "# Some higher lags are significant. However, the coefficient show be rather low as we assume it's further past and not influencing the model\n",
    "sgt.plot_acf(df.returns[1:], zero=False, lags=40)\n",
    "plt.title('ACF for FTSE Returns', size=20)\n",
    "plt.show()"
   ]
  },
  {
   "cell_type": "markdown",
   "metadata": {},
   "source": [
    "## MA(1) for Returns"
   ]
  },
  {
   "cell_type": "code",
   "execution_count": 10,
   "metadata": {},
   "outputs": [
    {
     "data": {
      "text/html": [
       "<table class=\"simpletable\">\n",
       "<caption>ARMA Model Results</caption>\n",
       "<tr>\n",
       "  <th>Dep. Variable:</th>      <td>returns</td>     <th>  No. Observations:  </th>   <td>5020</td>   \n",
       "</tr>\n",
       "<tr>\n",
       "  <th>Model:</th>            <td>ARMA(0, 1)</td>    <th>  Log Likelihood     </th> <td>-7929.595</td>\n",
       "</tr>\n",
       "<tr>\n",
       "  <th>Method:</th>             <td>css-mle</td>     <th>  S.D. of innovations</th>   <td>1.174</td>  \n",
       "</tr>\n",
       "<tr>\n",
       "  <th>Date:</th>          <td>Wed, 10 Mar 2021</td> <th>  AIC                </th> <td>15865.190</td>\n",
       "</tr>\n",
       "<tr>\n",
       "  <th>Time:</th>              <td>09:45:37</td>     <th>  BIC                </th> <td>15884.754</td>\n",
       "</tr>\n",
       "<tr>\n",
       "  <th>Sample:</th>           <td>01-10-1994</td>    <th>  HQIC               </th> <td>15872.045</td>\n",
       "</tr>\n",
       "<tr>\n",
       "  <th></th>                 <td>- 04-05-2013</td>   <th>                     </th>     <td> </td>    \n",
       "</tr>\n",
       "</table>\n",
       "<table class=\"simpletable\">\n",
       "<tr>\n",
       "        <td></td>           <th>coef</th>     <th>std err</th>      <th>z</th>      <th>P>|z|</th>  <th>[0.025</th>    <th>0.975]</th>  \n",
       "</tr>\n",
       "<tr>\n",
       "  <th>const</th>         <td>    0.0188</td> <td>    0.016</td> <td>    1.162</td> <td> 0.245</td> <td>   -0.013</td> <td>    0.050</td>\n",
       "</tr>\n",
       "<tr>\n",
       "  <th>ma.L1.returns</th> <td>   -0.0257</td> <td>    0.015</td> <td>   -1.720</td> <td> 0.085</td> <td>   -0.055</td> <td>    0.004</td>\n",
       "</tr>\n",
       "</table>\n",
       "<table class=\"simpletable\">\n",
       "<caption>Roots</caption>\n",
       "<tr>\n",
       "    <td></td>   <th>            Real</th>  <th>         Imaginary</th> <th>         Modulus</th>  <th>        Frequency</th>\n",
       "</tr>\n",
       "<tr>\n",
       "  <th>MA.1</th> <td>          38.8550</td> <td>          +0.0000j</td> <td>          38.8550</td> <td>           0.0000</td>\n",
       "</tr>\n",
       "</table>"
      ],
      "text/plain": [
       "<class 'statsmodels.iolib.summary.Summary'>\n",
       "\"\"\"\n",
       "                              ARMA Model Results                              \n",
       "==============================================================================\n",
       "Dep. Variable:                returns   No. Observations:                 5020\n",
       "Model:                     ARMA(0, 1)   Log Likelihood               -7929.595\n",
       "Method:                       css-mle   S.D. of innovations              1.174\n",
       "Date:                Wed, 10 Mar 2021   AIC                          15865.190\n",
       "Time:                        09:45:37   BIC                          15884.754\n",
       "Sample:                    01-10-1994   HQIC                         15872.045\n",
       "                         - 04-05-2013                                         \n",
       "=================================================================================\n",
       "                    coef    std err          z      P>|z|      [0.025      0.975]\n",
       "---------------------------------------------------------------------------------\n",
       "const             0.0188      0.016      1.162      0.245      -0.013       0.050\n",
       "ma.L1.returns    -0.0257      0.015     -1.720      0.085      -0.055       0.004\n",
       "                                    Roots                                    \n",
       "=============================================================================\n",
       "                  Real          Imaginary           Modulus         Frequency\n",
       "-----------------------------------------------------------------------------\n",
       "MA.1           38.8550           +0.0000j           38.8550            0.0000\n",
       "-----------------------------------------------------------------------------\n",
       "\"\"\""
      ]
     },
     "execution_count": 10,
     "metadata": {},
     "output_type": "execute_result"
    }
   ],
   "source": [
    "# the order first index is referring to AR, the second one is for MA\n",
    "model_ma_1 = ARMA(df.returns[1:], order=(0,1))\n",
    "result_ma_1 = model_ma_1.fit()\n",
    "result_ma_1.summary()\n",
    "# the p value for the first lag is 0.085 < 0.1, we've already seen from ACF that it's not significant"
   ]
  },
  {
   "cell_type": "markdown",
   "metadata": {},
   "source": [
    "## Higher-Lag MA Models for Returns"
   ]
  },
  {
   "cell_type": "code",
   "execution_count": 12,
   "metadata": {},
   "outputs": [
    {
     "name": "stdout",
     "output_type": "stream",
     "text": [
      "                              ARMA Model Results                              \n",
      "==============================================================================\n",
      "Dep. Variable:                returns   No. Observations:                 5020\n",
      "Model:                     ARMA(0, 2)   Log Likelihood               -7922.864\n",
      "Method:                       css-mle   S.D. of innovations              1.173\n",
      "Date:                Wed, 10 Mar 2021   AIC                          15853.728\n",
      "Time:                        10:18:40   BIC                          15879.812\n",
      "Sample:                    01-10-1994   HQIC                         15862.868\n",
      "                         - 04-05-2013                                         \n",
      "=================================================================================\n",
      "                    coef    std err          z      P>|z|      [0.025      0.975]\n",
      "---------------------------------------------------------------------------------\n",
      "const             0.0188      0.015      1.239      0.215      -0.011       0.049\n",
      "ma.L1.returns    -0.0327      0.014     -2.297      0.022      -0.061      -0.005\n",
      "ma.L2.returns    -0.0502      0.014     -3.669      0.000      -0.077      -0.023\n",
      "                                    Roots                                    \n",
      "=============================================================================\n",
      "                  Real          Imaginary           Modulus         Frequency\n",
      "-----------------------------------------------------------------------------\n",
      "MA.1            4.1499           +0.0000j            4.1499            0.0000\n",
      "MA.2           -4.8004           +0.0000j            4.8004            0.5000\n",
      "-----------------------------------------------------------------------------\n",
      "Log-Likelihood Test p-value 0.0\n"
     ]
    }
   ],
   "source": [
    "# all the coefficient became significant\n",
    "model_ma_2 = ARMA(df.returns[1:], order=(0,2))\n",
    "result_ma_2 = model_ma_2.fit()\n",
    "print(result_ma_2.summary())\n",
    "print('Log-Likelihood Test p-value', str(LLR_test(model_ma_1, model_ma_2)))"
   ]
  },
  {
   "cell_type": "code",
   "execution_count": 18,
   "metadata": {},
   "outputs": [
    {
     "name": "stdout",
     "output_type": "stream",
     "text": [
      "                              ARMA Model Results                              \n",
      "==============================================================================\n",
      "Dep. Variable:                returns   No. Observations:                 5020\n",
      "Model:                     ARMA(0, 2)   Log Likelihood               -7922.864\n",
      "Method:                       css-mle   S.D. of innovations              1.173\n",
      "Date:                Wed, 10 Mar 2021   AIC                          15853.728\n",
      "Time:                        10:24:52   BIC                          15879.812\n",
      "Sample:                    01-10-1994   HQIC                         15862.868\n",
      "                         - 04-05-2013                                         \n",
      "=================================================================================\n",
      "                    coef    std err          z      P>|z|      [0.025      0.975]\n",
      "---------------------------------------------------------------------------------\n",
      "const             0.0188      0.015      1.239      0.215      -0.011       0.049\n",
      "ma.L1.returns    -0.0327      0.014     -2.297      0.022      -0.061      -0.005\n",
      "ma.L2.returns    -0.0502      0.014     -3.669      0.000      -0.077      -0.023\n",
      "                                    Roots                                    \n",
      "=============================================================================\n",
      "                  Real          Imaginary           Modulus         Frequency\n",
      "-----------------------------------------------------------------------------\n",
      "MA.1            4.1499           +0.0000j            4.1499            0.0000\n",
      "MA.2           -4.8004           +0.0000j            4.8004            0.5000\n",
      "-----------------------------------------------------------------------------\n",
      "Log-Likelihood Test p-value 0.0\n"
     ]
    }
   ],
   "source": [
    "model_ma_3 = ARMA(df.returns[1:], order=(0,3))\n",
    "result_ma_3 = model_ma_2.fit()\n",
    "print(result_ma_3.summary())\n",
    "print('Log-Likelihood Test p-value', str(LLR_test(model_ma_2, model_ma_3)))"
   ]
  },
  {
   "cell_type": "code",
   "execution_count": 19,
   "metadata": {},
   "outputs": [
    {
     "name": "stdout",
     "output_type": "stream",
     "text": [
      "                              ARMA Model Results                              \n",
      "==============================================================================\n",
      "Dep. Variable:                returns   No. Observations:                 5020\n",
      "Model:                     ARMA(0, 4)   Log Likelihood               -7898.773\n",
      "Method:                       css-mle   S.D. of innovations              1.167\n",
      "Date:                Wed, 10 Mar 2021   AIC                          15809.547\n",
      "Time:                        10:25:13   BIC                          15848.674\n",
      "Sample:                    01-10-1994   HQIC                         15823.257\n",
      "                         - 04-05-2013                                         \n",
      "=================================================================================\n",
      "                    coef    std err          z      P>|z|      [0.025      0.975]\n",
      "---------------------------------------------------------------------------------\n",
      "const             0.0189      0.014      1.305      0.192      -0.009       0.047\n",
      "ma.L1.returns    -0.0203      0.014     -1.443      0.149      -0.048       0.007\n",
      "ma.L2.returns    -0.0551      0.014     -3.902      0.000      -0.083      -0.027\n",
      "ma.L3.returns    -0.0922      0.015     -6.306      0.000      -0.121      -0.064\n",
      "ma.L4.returns     0.0454      0.014      3.338      0.001       0.019       0.072\n",
      "                                    Roots                                    \n",
      "=============================================================================\n",
      "                  Real          Imaginary           Modulus         Frequency\n",
      "-----------------------------------------------------------------------------\n",
      "MA.1           -1.2257           -1.4206j            1.8763           -0.3633\n",
      "MA.2           -1.2257           +1.4206j            1.8763            0.3633\n",
      "MA.3            2.2405           -1.1103j            2.5006           -0.0732\n",
      "MA.4            2.2405           +1.1103j            2.5006            0.0732\n",
      "-----------------------------------------------------------------------------\n",
      "Log-Likelihood Test p-value 0.001\n"
     ]
    }
   ],
   "source": [
    "model_ma_4 = ARMA(df.returns[1:], order=(0,4))\n",
    "result_ma_4 = model_ma_4.fit()\n",
    "print(result_ma_4.summary())\n",
    "print('Log-Likelihood Test p-value', str(LLR_test(model_ma_3, model_ma_4)))"
   ]
  },
  {
   "cell_type": "code",
   "execution_count": 20,
   "metadata": {},
   "outputs": [
    {
     "name": "stdout",
     "output_type": "stream",
     "text": [
      "                              ARMA Model Results                              \n",
      "==============================================================================\n",
      "Dep. Variable:                returns   No. Observations:                 5020\n",
      "Model:                     ARMA(0, 5)   Log Likelihood               -7892.823\n",
      "Method:                       css-mle   S.D. of innovations              1.166\n",
      "Date:                Wed, 10 Mar 2021   AIC                          15799.645\n",
      "Time:                        10:28:04   BIC                          15845.294\n",
      "Sample:                    01-10-1994   HQIC                         15815.641\n",
      "                         - 04-05-2013                                         \n",
      "=================================================================================\n",
      "                    coef    std err          z      P>|z|      [0.025      0.975]\n",
      "---------------------------------------------------------------------------------\n",
      "const             0.0189      0.014      1.376      0.169      -0.008       0.046\n",
      "ma.L1.returns    -0.0262      0.014     -1.851      0.064      -0.054       0.002\n",
      "ma.L2.returns    -0.0497      0.014     -3.518      0.000      -0.077      -0.022\n",
      "ma.L3.returns    -0.0852      0.015     -5.799      0.000      -0.114      -0.056\n",
      "ma.L4.returns     0.0458      0.014      3.374      0.001       0.019       0.072\n",
      "ma.L5.returns    -0.0500      0.014     -3.454      0.001      -0.078      -0.022\n",
      "                                    Roots                                    \n",
      "=============================================================================\n",
      "                  Real          Imaginary           Modulus         Frequency\n",
      "-----------------------------------------------------------------------------\n",
      "MA.1           -1.2127           -1.0805j            1.6242           -0.3842\n",
      "MA.2           -1.2127           +1.0805j            1.6242            0.3842\n",
      "MA.3            1.7305           -0.0000j            1.7305           -0.0000\n",
      "MA.4            0.8062           -1.9326j            2.0940           -0.1871\n",
      "MA.5            0.8062           +1.9326j            2.0940            0.1871\n",
      "-----------------------------------------------------------------------------\n",
      "Log-Likelihood Test p-value 0.001\n"
     ]
    }
   ],
   "source": [
    "model_ma_5 = ARMA(df.returns[1:], order=(0,5))\n",
    "result_ma_5 = model_ma_5.fit()\n",
    "print(result_ma_5.summary())\n",
    "print('Log-Likelihood Test p-value', str(LLR_test(model_ma_4, model_ma_5)))"
   ]
  },
  {
   "cell_type": "code",
   "execution_count": 21,
   "metadata": {},
   "outputs": [
    {
     "name": "stdout",
     "output_type": "stream",
     "text": [
      "                              ARMA Model Results                              \n",
      "==============================================================================\n",
      "Dep. Variable:                returns   No. Observations:                 5020\n",
      "Model:                     ARMA(0, 6)   Log Likelihood               -7889.221\n",
      "Method:                       css-mle   S.D. of innovations              1.165\n",
      "Date:                Wed, 10 Mar 2021   AIC                          15794.442\n",
      "Time:                        10:28:07   BIC                          15846.612\n",
      "Sample:                    01-10-1994   HQIC                         15812.723\n",
      "                         - 04-05-2013                                         \n",
      "=================================================================================\n",
      "                    coef    std err          z      P>|z|      [0.025      0.975]\n",
      "---------------------------------------------------------------------------------\n",
      "const             0.0189      0.013      1.430      0.153      -0.007       0.045\n",
      "ma.L1.returns    -0.0237      0.014     -1.682      0.093      -0.051       0.004\n",
      "ma.L2.returns    -0.0486      0.014     -3.436      0.001      -0.076      -0.021\n",
      "ma.L3.returns    -0.0827      0.014     -5.846      0.000      -0.110      -0.055\n",
      "ma.L4.returns     0.0466      0.014      3.434      0.001       0.020       0.073\n",
      "ma.L5.returns    -0.0484      0.014     -3.371      0.001      -0.077      -0.020\n",
      "ma.L6.returns    -0.0387      0.014     -2.682      0.007      -0.067      -0.010\n",
      "                                    Roots                                    \n",
      "=============================================================================\n",
      "                  Real          Imaginary           Modulus         Frequency\n",
      "-----------------------------------------------------------------------------\n",
      "MA.1            1.5011           -0.0000j            1.5011           -0.0000\n",
      "MA.2            0.8248           -1.4775j            1.6921           -0.1690\n",
      "MA.3            0.8248           +1.4775j            1.6921            0.1690\n",
      "MA.4           -1.0066           -1.2260j            1.5863           -0.3594\n",
      "MA.5           -1.0066           +1.2260j            1.5863            0.3594\n",
      "MA.6           -2.3891           -0.0000j            2.3891           -0.5000\n",
      "-----------------------------------------------------------------------------\n",
      "Log-Likelihood Test p-value 0.007\n"
     ]
    }
   ],
   "source": [
    "model_ma_6 = ARMA(df.returns[1:], order=(0,6))\n",
    "result_ma_6 = model_ma_6.fit()\n",
    "print(result_ma_6.summary())\n",
    "print('Log-Likelihood Test p-value', str(LLR_test(model_ma_5, model_ma_6)))"
   ]
  },
  {
   "cell_type": "code",
   "execution_count": 22,
   "metadata": {},
   "outputs": [
    {
     "name": "stdout",
     "output_type": "stream",
     "text": [
      "                              ARMA Model Results                              \n",
      "==============================================================================\n",
      "Dep. Variable:                returns   No. Observations:                 5020\n",
      "Model:                     ARMA(0, 7)   Log Likelihood               -7889.046\n",
      "Method:                       css-mle   S.D. of innovations              1.165\n",
      "Date:                Wed, 10 Mar 2021   AIC                          15796.091\n",
      "Time:                        10:28:10   BIC                          15854.782\n",
      "Sample:                    01-10-1994   HQIC                         15816.657\n",
      "                         - 04-05-2013                                         \n",
      "=================================================================================\n",
      "                    coef    std err          z      P>|z|      [0.025      0.975]\n",
      "---------------------------------------------------------------------------------\n",
      "const             0.0189      0.013      1.418      0.156      -0.007       0.045\n",
      "ma.L1.returns    -0.0247      0.014     -1.739      0.082      -0.052       0.003\n",
      "ma.L2.returns    -0.0488      0.014     -3.454      0.001      -0.077      -0.021\n",
      "ma.L3.returns    -0.0821      0.014     -5.789      0.000      -0.110      -0.054\n",
      "ma.L4.returns     0.0458      0.014      3.360      0.001       0.019       0.073\n",
      "ma.L5.returns    -0.0486      0.014     -3.381      0.001      -0.077      -0.020\n",
      "ma.L6.returns    -0.0390      0.014     -2.702      0.007      -0.067      -0.011\n",
      "ma.L7.returns     0.0085      0.014      0.592      0.554      -0.020       0.037\n",
      "                                    Roots                                    \n",
      "=============================================================================\n",
      "                  Real          Imaginary           Modulus         Frequency\n",
      "-----------------------------------------------------------------------------\n",
      "MA.1           -0.9690           -1.1814j            1.5279           -0.3593\n",
      "MA.2           -0.9690           +1.1814j            1.5279            0.3593\n",
      "MA.3           -2.0397           -0.0000j            2.0397           -0.5000\n",
      "MA.4            0.7516           -1.5246j            1.6998           -0.1771\n",
      "MA.5            0.7516           +1.5246j            1.6998            0.1771\n",
      "MA.6            1.5538           -0.0000j            1.5538           -0.0000\n",
      "MA.7            5.5175           -0.0000j            5.5175           -0.0000\n",
      "-----------------------------------------------------------------------------\n",
      "Log-Likelihood Test p-value 0.554\n"
     ]
    }
   ],
   "source": [
    "model_ma_7 = ARMA(df.returns[1:], order=(0,7))\n",
    "result_ma_7 = model_ma_7.fit()\n",
    "print(result_ma_7.summary())\n",
    "print('Log-Likelihood Test p-value', str(LLR_test(model_ma_6, model_ma_7)))"
   ]
  },
  {
   "cell_type": "code",
   "execution_count": 24,
   "metadata": {},
   "outputs": [
    {
     "name": "stdout",
     "output_type": "stream",
     "text": [
      "                              ARMA Model Results                              \n",
      "==============================================================================\n",
      "Dep. Variable:                returns   No. Observations:                 5020\n",
      "Model:                     ARMA(0, 8)   Log Likelihood               -7885.603\n",
      "Method:                       css-mle   S.D. of innovations              1.164\n",
      "Date:                Wed, 10 Mar 2021   AIC                          15791.205\n",
      "Time:                        10:28:56   BIC                          15856.417\n",
      "Sample:                    01-10-1994   HQIC                         15814.056\n",
      "                         - 04-05-2013                                         \n",
      "=================================================================================\n",
      "                    coef    std err          z      P>|z|      [0.025      0.975]\n",
      "---------------------------------------------------------------------------------\n",
      "const             0.0189      0.014      1.364      0.173      -0.008       0.046\n",
      "ma.L1.returns    -0.0238      0.014     -1.688      0.091      -0.051       0.004\n",
      "ma.L2.returns    -0.0495      0.014     -3.514      0.000      -0.077      -0.022\n",
      "ma.L3.returns    -0.0847      0.014     -5.993      0.000      -0.112      -0.057\n",
      "ma.L4.returns     0.0488      0.014      3.440      0.001       0.021       0.077\n",
      "ma.L5.returns    -0.0518      0.014     -3.634      0.000      -0.080      -0.024\n",
      "ma.L6.returns    -0.0402      0.014     -2.787      0.005      -0.068      -0.012\n",
      "ma.L7.returns     0.0084      0.014      0.587      0.557      -0.020       0.036\n",
      "ma.L8.returns     0.0366      0.014      2.626      0.009       0.009       0.064\n",
      "                                    Roots                                    \n",
      "=============================================================================\n",
      "                  Real          Imaginary           Modulus         Frequency\n",
      "-----------------------------------------------------------------------------\n",
      "MA.1            1.4716           -0.4282j            1.5326           -0.0451\n",
      "MA.2            1.4716           +0.4282j            1.5326            0.0451\n",
      "MA.3            0.5944           -1.3169j            1.4448           -0.1825\n",
      "MA.4            0.5944           +1.3169j            1.4448            0.1825\n",
      "MA.5           -0.7318           -1.2736j            1.4689           -0.3330\n",
      "MA.6           -0.7318           +1.2736j            1.4689            0.3330\n",
      "MA.7           -1.4485           -0.6983j            1.6081           -0.4285\n",
      "MA.8           -1.4485           +0.6983j            1.6081            0.4285\n",
      "-----------------------------------------------------------------------------\n",
      "Log-Likelihood Test p-value 0.009\n"
     ]
    }
   ],
   "source": [
    "# the reason we fit one more lag here is beacuse from ACF graph we can see that the 8th lag is significant\n",
    "# it does improve from MA(7)! but now we need to examine if MA(8) is better than MA(6)\n",
    "model_ma_8 = ARMA(df.returns[1:], order=(0,8))\n",
    "result_ma_8 = model_ma_8.fit()\n",
    "print(result_ma_8.summary())\n",
    "print('Log-Likelihood Test p-value', str(LLR_test(model_ma_7, model_ma_8)))"
   ]
  },
  {
   "cell_type": "code",
   "execution_count": 25,
   "metadata": {},
   "outputs": [
    {
     "name": "stdout",
     "output_type": "stream",
     "text": [
      "Log-Likelihood Test p-value 0.027\n"
     ]
    }
   ],
   "source": [
    "# it's better as p-value < 0.05\n",
    "print('Log-Likelihood Test p-value', str(LLR_test(model_ma_6, model_ma_8, DF=2)))"
   ]
  },
  {
   "cell_type": "markdown",
   "metadata": {},
   "source": [
    "## Residuals for Returns"
   ]
  },
  {
   "cell_type": "code",
   "execution_count": 31,
   "metadata": {},
   "outputs": [
    {
     "name": "stderr",
     "output_type": "stream",
     "text": [
      "<ipython-input-31-6188e7ffbc2f>:1: SettingWithCopyWarning: \n",
      "A value is trying to be set on a copy of a slice from a DataFrame.\n",
      "Try using .loc[row_indexer,col_indexer] = value instead\n",
      "\n",
      "See the caveats in the documentation: https://pandas.pydata.org/pandas-docs/stable/user_guide/indexing.html#returning-a-view-versus-a-copy\n",
      "  df['residual_re'] = result_ma_8.resid\n"
     ]
    }
   ],
   "source": [
    "df['residual_re'] = result_ma_8.resid"
   ]
  },
  {
   "cell_type": "code",
   "execution_count": 36,
   "metadata": {},
   "outputs": [
    {
     "data": {
      "text/plain": [
       "-0.0"
      ]
     },
     "execution_count": 36,
     "metadata": {},
     "output_type": "execute_result"
    }
   ],
   "source": [
    "round(df.residual_re.mean(), 3)"
   ]
  },
  {
   "cell_type": "code",
   "execution_count": 34,
   "metadata": {
    "scrolled": true
   },
   "outputs": [
    {
     "data": {
      "text/plain": [
       "1.3552546717961282"
      ]
     },
     "execution_count": 34,
     "metadata": {},
     "output_type": "execute_result"
    }
   ],
   "source": [
    "df.residual_re.var()"
   ]
  },
  {
   "cell_type": "code",
   "execution_count": 37,
   "metadata": {
    "scrolled": false
   },
   "outputs": [
    {
     "name": "stdout",
     "output_type": "stream",
     "text": [
      "1.1641540584459293\n"
     ]
    },
    {
     "data": {
      "text/plain": [
       "1.1641540584459293"
      ]
     },
     "execution_count": 37,
     "metadata": {},
     "output_type": "execute_result"
    }
   ],
   "source": [
    "print(np.sqrt(df.residual_re.var()))\n",
    "df.residual_re.std()"
   ]
  },
  {
   "cell_type": "code",
   "execution_count": 40,
   "metadata": {},
   "outputs": [
    {
     "name": "stdout",
     "output_type": "stream",
     "text": [
      "(-3.492519339951999, 3.492405010723577)\n"
     ]
    }
   ],
   "source": [
    "# confidence interval\n",
    "# it's a bad model as it means that the return can be really wrong and has a too high range\n",
    "print((df.residual_re.mean()- 3* df.residual_re.std(), df.residual_re.mean()+ 3* df.residual_re.std()))"
   ]
  },
  {
   "cell_type": "code",
   "execution_count": 39,
   "metadata": {},
   "outputs": [
    {
     "data": {
      "image/png": "[encoded data removed]",
      "text/plain": [
       "<Figure size 1440x360 with 1 Axes>"
      ]
     },
     "metadata": {},
     "output_type": "display_data"
    }
   ],
   "source": [
    "df.residual_re[1:].plot(figsize=(20,5))\n",
    "plt.title('Residuals of Returns', size=20)\n",
    "plt.show()"
   ]
  },
  {
   "cell_type": "code",
   "execution_count": 42,
   "metadata": {},
   "outputs": [
    {
     "data": {
      "text/plain": [
       "(-70.83821741773954,\n",
       " 0.0,\n",
       " 0,\n",
       " 5019,\n",
       " {'1%': -3.4316535759402753,\n",
       "  '5%': -2.8621160400844468,\n",
       "  '10%': -2.567076626752987},\n",
       " 15689.881920338994)"
      ]
     },
     "execution_count": 42,
     "metadata": {},
     "output_type": "execute_result"
    }
   ],
   "source": [
    "# this means that it's stationary, but is it white noises? NO, you might want to examine through ACF\n",
    "sts.adfuller(df.residual_re[1:])"
   ]
  },
  {
   "cell_type": "code",
   "execution_count": 43,
   "metadata": {},
   "outputs": [
    {
     "data": {
      "image/png": "[encoded data removed]",
      "text/plain": [
       "<Figure size 432x288 with 1 Axes>"
      ]
     },
     "metadata": {},
     "output_type": "display_data"
    }
   ],
   "source": [
    "# if it's white noises, then the ACF graph should have no significant coefficient\n",
    "# for the first 8 lags, because they're included in our MA(8) model, so it's reasonable that they're close to zero\n",
    "# for 9-17, they're also not significant, which is a testament for our MA(8) model (it's good)\n",
    "# However, for 18 lags and onwards, some of the coefficients are significant, means that in a longer preiod back, the market was doing adjustment\n",
    "sgt.plot_acf(df.residual_re[1:], zero=False, lags=40)\n",
    "plt.title('ACF for FTSE Return Residuals', size=20)\n",
    "plt.show()"
   ]
  },
  {
   "cell_type": "markdown",
   "metadata": {},
   "source": [
    "## Normalized Returns"
   ]
  },
  {
   "cell_type": "code",
   "execution_count": 44,
   "metadata": {},
   "outputs": [],
   "source": [
    "bench_re = df.returns.iloc[1]"
   ]
  },
  {
   "cell_type": "code",
   "execution_count": 45,
   "metadata": {},
   "outputs": [
    {
     "name": "stderr",
     "output_type": "stream",
     "text": [
      "<ipython-input-45-0797274560e4>:1: SettingWithCopyWarning: \n",
      "A value is trying to be set on a copy of a slice from a DataFrame.\n",
      "Try using .loc[row_indexer,col_indexer] = value instead\n",
      "\n",
      "See the caveats in the documentation: https://pandas.pydata.org/pandas-docs/stable/user_guide/indexing.html#returning-a-view-versus-a-copy\n",
      "  df['norm_re'] = df.returns.div(bench_re).mul(100)\n"
     ]
    }
   ],
   "source": [
    "df['norm_re'] = df.returns.div(bench_re).mul(100)"
   ]
  },
  {
   "cell_type": "code",
   "execution_count": null,
   "metadata": {},
   "outputs": [],
   "source": []
  },
  {
   "cell_type": "code",
   "execution_count": null,
   "metadata": {},
   "outputs": [],
   "source": []
  },
  {
   "cell_type": "code",
   "execution_count": null,
   "metadata": {},
   "outputs": [],
   "source": []
  },
  {
   "cell_type": "code",
   "execution_count": null,
   "metadata": {},
   "outputs": [],
   "source": []
  },
  {
   "cell_type": "markdown",
   "metadata": {},
   "source": [
    "## MA Models For Prices"
   ]
  },
  {
   "cell_type": "code",
   "execution_count": null,
   "metadata": {
    "scrolled": true
   },
   "outputs": [],
   "source": []
  },
  {
   "cell_type": "code",
   "execution_count": null,
   "metadata": {},
   "outputs": [],
   "source": []
  }
 ],
 "metadata": {
  "kernelspec": {
   "display_name": "Python 3",
   "language": "python",
   "name": "python3"
  },
  "language_info": {
   "codemirror_mode": {
    "name": "ipython",
    "version": 3
   },
   "file_extension": ".py",
   "mimetype": "text/x-python",
   "name": "python",
   "nbconvert_exporter": "python",
   "pygments_lexer": "ipython3",
   "version": "3.8.3"
  }
 },
 "nbformat": 4,
 "nbformat_minor": 2
}
